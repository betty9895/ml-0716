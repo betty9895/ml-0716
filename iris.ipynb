{
  "nbformat": 4,
  "nbformat_minor": 0,
  "metadata": {
    "colab": {
      "name": "iris.ipynb",
      "provenance": [],
      "collapsed_sections": [],
      "mount_file_id": "1S4Zb_wLbQSdH9F_4L6riEUPouEy48D6H",
      "authorship_tag": "ABX9TyNAiD2qyzX9t4bedyfDyLus",
      "include_colab_link": true
    },
    "kernelspec": {
      "name": "python3",
      "display_name": "Python 3"
    },
    "accelerator": "GPU"
  },
  "cells": [
    {
      "cell_type": "markdown",
      "metadata": {
        "id": "view-in-github",
        "colab_type": "text"
      },
      "source": [
        "<a href=\"https://colab.research.google.com/github/betty9895/ml-0716/blob/master/iris.ipynb\" target=\"_parent\"><img src=\"https://colab.research.google.com/assets/colab-badge.svg\" alt=\"Open In Colab\"/></a>"
      ]
    },
    {
      "cell_type": "code",
      "metadata": {
        "id": "diI8VrXViBNF",
        "colab_type": "code",
        "colab": {}
      },
      "source": [
        "from sklearn.datasets import load_iris\n",
        "import pandas as pd\n",
        "\n",
        "iris = load_iris()\n",
        "df = pd.DataFrame(iris[\"data\"],\n",
        "                  columns = iris[\"feature_names\"])\n",
        "df[\"answer\"] = iris[\"target\"]\n",
        "df.to_csv(\"iris.csv\",encoding=\"utf8\",index = False)"
      ],
      "execution_count": null,
      "outputs": []
    },
    {
      "cell_type": "code",
      "metadata": {
        "id": "PhvqPhV2OS8z",
        "colab_type": "code",
        "colab": {
          "base_uri": "https://localhost:8080/",
          "height": 134
        },
        "outputId": "e1b14190-8c69-40c3-e68a-e5867ac9f582"
      },
      "source": [
        "# !pip install opencv-python\n",
        "# !ls -la"
      ],
      "execution_count": null,
      "outputs": [
        {
          "output_type": "stream",
          "text": [
            "total 24\n",
            "drwxr-xr-x 1 root root 4096 Jul 16 06:01 .\n",
            "drwxr-xr-x 1 root root 4096 Jul 16 05:59 ..\n",
            "drwxr-xr-x 1 root root 4096 Jul 13 16:14 .config\n",
            "drwx------ 4 root root 4096 Jul 16 06:01 drive\n",
            "-rw-r--r-- 1 root root 2777 Jul 16 06:01 iris.csv\n",
            "drwxr-xr-x 1 root root 4096 Jul 10 16:29 sample_data\n"
          ],
          "name": "stdout"
        }
      ]
    },
    {
      "cell_type": "code",
      "metadata": {
        "id": "NM6EiVoXOjqN",
        "colab_type": "code",
        "colab": {
          "base_uri": "https://localhost:8080/",
          "height": 1000
        },
        "outputId": "d78421cb-8806-4c08-9368-1735906ba286"
      },
      "source": [
        "from sklearn.model_selection import train_test_split\n",
        "# train_test_split([1,2,3,4],\n",
        "#                  [5,6,7,8],\n",
        "#                  [9,10,11,12],\n",
        "#                  test_size = 0.1 )\n",
        "# 隨機切，非固定\n",
        "x_train, x_test, y_train, y_test = train_test_split(iris[\"data\"], iris[\"target\"], test_size = 0.1)\n",
        "\n",
        "x_train, x_test, y_train, y_test"
      ],
      "execution_count": 13,
      "outputs": [
        {
          "output_type": "execute_result",
          "data": {
            "text/plain": [
              "(array([[6.6, 3. , 4.4, 1.4],\n",
              "        [5.1, 3.4, 1.5, 0.2],\n",
              "        [4.8, 3. , 1.4, 0.1],\n",
              "        [6. , 3. , 4.8, 1.8],\n",
              "        [7.9, 3.8, 6.4, 2. ],\n",
              "        [5.4, 3.4, 1.5, 0.4],\n",
              "        [5.7, 2.8, 4.1, 1.3],\n",
              "        [6.3, 2.5, 4.9, 1.5],\n",
              "        [4.5, 2.3, 1.3, 0.3],\n",
              "        [5. , 3.6, 1.4, 0.2],\n",
              "        [4.3, 3. , 1.1, 0.1],\n",
              "        [5.7, 2.5, 5. , 2. ],\n",
              "        [5. , 2. , 3.5, 1. ],\n",
              "        [5. , 3.2, 1.2, 0.2],\n",
              "        [6.8, 3.2, 5.9, 2.3],\n",
              "        [6.5, 3. , 5.2, 2. ],\n",
              "        [6.9, 3.1, 4.9, 1.5],\n",
              "        [5.5, 3.5, 1.3, 0.2],\n",
              "        [5.9, 3. , 5.1, 1.8],\n",
              "        [7.2, 3. , 5.8, 1.6],\n",
              "        [5.1, 3.3, 1.7, 0.5],\n",
              "        [5.2, 2.7, 3.9, 1.4],\n",
              "        [6.1, 2.8, 4. , 1.3],\n",
              "        [5. , 3.4, 1.6, 0.4],\n",
              "        [6.7, 2.5, 5.8, 1.8],\n",
              "        [6.7, 3. , 5.2, 2.3],\n",
              "        [5.5, 2.6, 4.4, 1.2],\n",
              "        [5.9, 3.2, 4.8, 1.8],\n",
              "        [5.9, 3. , 4.2, 1.5],\n",
              "        [7.7, 3. , 6.1, 2.3],\n",
              "        [4.6, 3.6, 1. , 0.2],\n",
              "        [4.8, 3.4, 1.6, 0.2],\n",
              "        [7. , 3.2, 4.7, 1.4],\n",
              "        [6.1, 2.9, 4.7, 1.4],\n",
              "        [6.7, 3.3, 5.7, 2.5],\n",
              "        [6.3, 2.3, 4.4, 1.3],\n",
              "        [6.3, 2.7, 4.9, 1.8],\n",
              "        [6. , 3.4, 4.5, 1.6],\n",
              "        [4.4, 3. , 1.3, 0.2],\n",
              "        [6.2, 2.8, 4.8, 1.8],\n",
              "        [5. , 3.3, 1.4, 0.2],\n",
              "        [5.1, 3.8, 1.6, 0.2],\n",
              "        [5.4, 3.9, 1.3, 0.4],\n",
              "        [5.4, 3. , 4.5, 1.5],\n",
              "        [5.6, 3. , 4.1, 1.3],\n",
              "        [4.9, 2.4, 3.3, 1. ],\n",
              "        [4.9, 3. , 1.4, 0.2],\n",
              "        [6.1, 3. , 4.9, 1.8],\n",
              "        [5.2, 3.4, 1.4, 0.2],\n",
              "        [6.3, 3.3, 4.7, 1.6],\n",
              "        [6.1, 3. , 4.6, 1.4],\n",
              "        [6.7, 3. , 5. , 1.7],\n",
              "        [6.8, 2.8, 4.8, 1.4],\n",
              "        [5.5, 2.3, 4. , 1.3],\n",
              "        [7.6, 3. , 6.6, 2.1],\n",
              "        [5.7, 4.4, 1.5, 0.4],\n",
              "        [5.8, 2.7, 4.1, 1. ],\n",
              "        [7.7, 3.8, 6.7, 2.2],\n",
              "        [4.7, 3.2, 1.3, 0.2],\n",
              "        [5. , 3.5, 1.3, 0.3],\n",
              "        [6.5, 2.8, 4.6, 1.5],\n",
              "        [4.6, 3.2, 1.4, 0.2],\n",
              "        [5.8, 2.8, 5.1, 2.4],\n",
              "        [5.5, 2.5, 4. , 1.3],\n",
              "        [6.4, 3.1, 5.5, 1.8],\n",
              "        [4.9, 3.6, 1.4, 0.1],\n",
              "        [6.7, 3.1, 5.6, 2.4],\n",
              "        [6.9, 3.1, 5.1, 2.3],\n",
              "        [7.3, 2.9, 6.3, 1.8],\n",
              "        [7.1, 3. , 5.9, 2.1],\n",
              "        [5.8, 2.6, 4. , 1.2],\n",
              "        [6.3, 3.4, 5.6, 2.4],\n",
              "        [5.7, 2.6, 3.5, 1. ],\n",
              "        [5.1, 3.5, 1.4, 0.2],\n",
              "        [6.3, 2.8, 5.1, 1.5],\n",
              "        [6.4, 2.8, 5.6, 2.1],\n",
              "        [5.1, 3.7, 1.5, 0.4],\n",
              "        [6. , 2.2, 5. , 1.5],\n",
              "        [6.2, 3.4, 5.4, 2.3],\n",
              "        [4.6, 3.4, 1.4, 0.3],\n",
              "        [5.1, 3.8, 1.5, 0.3],\n",
              "        [5.5, 2.4, 3.8, 1.1],\n",
              "        [6. , 2.7, 5.1, 1.6],\n",
              "        [5.5, 4.2, 1.4, 0.2],\n",
              "        [5.4, 3.7, 1.5, 0.2],\n",
              "        [5. , 2.3, 3.3, 1. ],\n",
              "        [5. , 3.4, 1.5, 0.2],\n",
              "        [5.8, 4. , 1.2, 0.2],\n",
              "        [4.6, 3.1, 1.5, 0.2],\n",
              "        [6.4, 3.2, 4.5, 1.5],\n",
              "        [7.7, 2.6, 6.9, 2.3],\n",
              "        [5.8, 2.7, 3.9, 1.2],\n",
              "        [7.7, 2.8, 6.7, 2. ],\n",
              "        [5.6, 3. , 4.5, 1.5],\n",
              "        [6. , 2.2, 4. , 1. ],\n",
              "        [5.6, 2.8, 4.9, 2. ],\n",
              "        [6.3, 2.9, 5.6, 1.8],\n",
              "        [6.7, 3.1, 4.4, 1.4],\n",
              "        [5.7, 2.9, 4.2, 1.3],\n",
              "        [6.7, 3.3, 5.7, 2.1],\n",
              "        [6.3, 2.5, 5. , 1.9],\n",
              "        [5.1, 2.5, 3. , 1.1],\n",
              "        [6.2, 2.2, 4.5, 1.5],\n",
              "        [4.4, 3.2, 1.3, 0.2],\n",
              "        [6. , 2.9, 4.5, 1.5],\n",
              "        [6.2, 2.9, 4.3, 1.3],\n",
              "        [5.4, 3.4, 1.7, 0.2],\n",
              "        [5.6, 2.7, 4.2, 1.3],\n",
              "        [6.6, 2.9, 4.6, 1.3],\n",
              "        [5. , 3.5, 1.6, 0.6],\n",
              "        [7.2, 3.2, 6. , 1.8],\n",
              "        [5.8, 2.7, 5.1, 1.9],\n",
              "        [4.8, 3. , 1.4, 0.3],\n",
              "        [7.4, 2.8, 6.1, 1.9],\n",
              "        [5. , 3. , 1.6, 0.2],\n",
              "        [5.6, 2.9, 3.6, 1.3],\n",
              "        [5.7, 2.8, 4.5, 1.3],\n",
              "        [6.5, 3. , 5.5, 1.8],\n",
              "        [4.8, 3.1, 1.6, 0.2],\n",
              "        [7.2, 3.6, 6.1, 2.5],\n",
              "        [6.5, 3. , 5.8, 2.2],\n",
              "        [6.3, 3.3, 6. , 2.5],\n",
              "        [4.7, 3.2, 1.6, 0.2],\n",
              "        [5.1, 3.5, 1.4, 0.3],\n",
              "        [5.8, 2.7, 5.1, 1.9],\n",
              "        [6.9, 3.2, 5.7, 2.3],\n",
              "        [6.1, 2.6, 5.6, 1.4],\n",
              "        [4.9, 3.1, 1.5, 0.1],\n",
              "        [5.3, 3.7, 1.5, 0.2],\n",
              "        [5.7, 3.8, 1.7, 0.3],\n",
              "        [5.4, 3.9, 1.7, 0.4],\n",
              "        [6.9, 3.1, 5.4, 2.1],\n",
              "        [6.5, 3.2, 5.1, 2. ],\n",
              "        [5.5, 2.4, 3.7, 1. ],\n",
              "        [4.8, 3.4, 1.9, 0.2]]), array([[6.8, 3. , 5.5, 2.1],\n",
              "        [5.6, 2.5, 3.9, 1.1],\n",
              "        [4.9, 2.5, 4.5, 1.7],\n",
              "        [6.4, 2.9, 4.3, 1.3],\n",
              "        [6.4, 3.2, 5.3, 2.3],\n",
              "        [6.4, 2.7, 5.3, 1.9],\n",
              "        [5.2, 4.1, 1.5, 0.1],\n",
              "        [5.2, 3.5, 1.5, 0.2],\n",
              "        [4.9, 3.1, 1.5, 0.2],\n",
              "        [6.1, 2.8, 4.7, 1.2],\n",
              "        [6.4, 2.8, 5.6, 2.2],\n",
              "        [4.4, 2.9, 1.4, 0.2],\n",
              "        [5.7, 3. , 4.2, 1.2],\n",
              "        [6.7, 3.1, 4.7, 1.5],\n",
              "        [5.1, 3.8, 1.9, 0.4]]), array([1, 0, 0, 2, 2, 0, 1, 1, 0, 0, 0, 2, 1, 0, 2, 2, 1, 0, 2, 2, 0, 1,\n",
              "        1, 0, 2, 2, 1, 1, 1, 2, 0, 0, 1, 1, 2, 1, 2, 1, 0, 2, 0, 0, 0, 1,\n",
              "        1, 1, 0, 2, 0, 1, 1, 1, 1, 1, 2, 0, 1, 2, 0, 0, 1, 0, 2, 1, 2, 0,\n",
              "        2, 2, 2, 2, 1, 2, 1, 0, 2, 2, 0, 2, 2, 0, 0, 1, 1, 0, 0, 1, 0, 0,\n",
              "        0, 1, 2, 1, 2, 1, 1, 2, 2, 1, 1, 2, 2, 1, 1, 0, 1, 1, 0, 1, 1, 0,\n",
              "        2, 2, 0, 2, 0, 1, 1, 2, 0, 2, 2, 2, 0, 0, 2, 2, 2, 0, 0, 0, 0, 2,\n",
              "        2, 1, 0]), array([2, 1, 2, 1, 2, 2, 0, 0, 0, 1, 2, 0, 1, 1, 0]))"
            ]
          },
          "metadata": {
            "tags": []
          },
          "execution_count": 13
        }
      ]
    },
    {
      "cell_type": "code",
      "metadata": {
        "id": "ztT4xTSWTEfM",
        "colab_type": "code",
        "colab": {
          "base_uri": "https://localhost:8080/",
          "height": 117
        },
        "outputId": "e0fdad59-3cc2-4349-f3fa-95a01d67c683"
      },
      "source": [
        "from sklearn.tree import DecisionTreeClassifier\n",
        "clf = DecisionTreeClassifier()\n",
        "clf.fit(x_train, y_train)"
      ],
      "execution_count": 16,
      "outputs": [
        {
          "output_type": "execute_result",
          "data": {
            "text/plain": [
              "DecisionTreeClassifier(ccp_alpha=0.0, class_weight=None, criterion='gini',\n",
              "                       max_depth=None, max_features=None, max_leaf_nodes=None,\n",
              "                       min_impurity_decrease=0.0, min_impurity_split=None,\n",
              "                       min_samples_leaf=1, min_samples_split=2,\n",
              "                       min_weight_fraction_leaf=0.0, presort='deprecated',\n",
              "                       random_state=None, splitter='best')"
            ]
          },
          "metadata": {
            "tags": []
          },
          "execution_count": 16
        }
      ]
    },
    {
      "cell_type": "code",
      "metadata": {
        "id": "kL5t1tqiTvhx",
        "colab_type": "code",
        "colab": {
          "base_uri": "https://localhost:8080/",
          "height": 916
        },
        "outputId": "a765eb79-a8c5-471f-9a99-43174b7b10fa"
      },
      "source": [
        "from sklearn.tree import export_graphviz\n",
        "import graphviz\n",
        "\n",
        "g = export_graphviz(clf,\n",
        "                feature_names=iris[\"feature_names\"],\n",
        "                class_names=iris[\"target_names\"],\n",
        "                filled=True)\n",
        "graphviz.Source(g)"
      ],
      "execution_count": 20,
      "outputs": [
        {
          "output_type": "execute_result",
          "data": {
            "text/plain": [
              "<graphviz.files.Source at 0x7f266e416898>"
            ],
            "image/svg+xml": "<?xml version=\"1.0\" encoding=\"UTF-8\" standalone=\"no\"?>\n<!DOCTYPE svg PUBLIC \"-//W3C//DTD SVG 1.1//EN\"\n \"http://www.w3.org/Graphics/SVG/1.1/DTD/svg11.dtd\">\n<!-- Generated by graphviz version 2.40.1 (20161225.0304)\n -->\n<!-- Title: Tree Pages: 1 -->\n<svg width=\"623pt\" height=\"671pt\"\n viewBox=\"0.00 0.00 623.00 671.00\" xmlns=\"http://www.w3.org/2000/svg\" xmlns:xlink=\"http://www.w3.org/1999/xlink\">\n<g id=\"graph0\" class=\"graph\" transform=\"scale(1 1) rotate(0) translate(4 667)\">\n<title>Tree</title>\n<polygon fill=\"#ffffff\" stroke=\"transparent\" points=\"-4,4 -4,-667 619,-667 619,4 -4,4\"/>\n<!-- 0 -->\n<g id=\"node1\" class=\"node\">\n<title>0</title>\n<polygon fill=\"#ffffff\" stroke=\"#000000\" points=\"304,-663 151,-663 151,-580 304,-580 304,-663\"/>\n<text text-anchor=\"middle\" x=\"227.5\" y=\"-647.8\" font-family=\"Times,serif\" font-size=\"14.00\" fill=\"#000000\">petal width (cm) &lt;= 0.8</text>\n<text text-anchor=\"middle\" x=\"227.5\" y=\"-632.8\" font-family=\"Times,serif\" font-size=\"14.00\" fill=\"#000000\">gini = 0.667</text>\n<text text-anchor=\"middle\" x=\"227.5\" y=\"-617.8\" font-family=\"Times,serif\" font-size=\"14.00\" fill=\"#000000\">samples = 135</text>\n<text text-anchor=\"middle\" x=\"227.5\" y=\"-602.8\" font-family=\"Times,serif\" font-size=\"14.00\" fill=\"#000000\">value = [45, 45, 45]</text>\n<text text-anchor=\"middle\" x=\"227.5\" y=\"-587.8\" font-family=\"Times,serif\" font-size=\"14.00\" fill=\"#000000\">class = setosa</text>\n</g>\n<!-- 1 -->\n<g id=\"node2\" class=\"node\">\n<title>1</title>\n<polygon fill=\"#e58139\" stroke=\"#000000\" points=\"208,-536.5 91,-536.5 91,-468.5 208,-468.5 208,-536.5\"/>\n<text text-anchor=\"middle\" x=\"149.5\" y=\"-521.3\" font-family=\"Times,serif\" font-size=\"14.00\" fill=\"#000000\">gini = 0.0</text>\n<text text-anchor=\"middle\" x=\"149.5\" y=\"-506.3\" font-family=\"Times,serif\" font-size=\"14.00\" fill=\"#000000\">samples = 45</text>\n<text text-anchor=\"middle\" x=\"149.5\" y=\"-491.3\" font-family=\"Times,serif\" font-size=\"14.00\" fill=\"#000000\">value = [45, 0, 0]</text>\n<text text-anchor=\"middle\" x=\"149.5\" y=\"-476.3\" font-family=\"Times,serif\" font-size=\"14.00\" fill=\"#000000\">class = setosa</text>\n</g>\n<!-- 0&#45;&gt;1 -->\n<g id=\"edge1\" class=\"edge\">\n<title>0&#45;&gt;1</title>\n<path fill=\"none\" stroke=\"#000000\" d=\"M200.2194,-579.8796C192.8677,-568.6636 184.9036,-556.5131 177.5126,-545.2372\"/>\n<polygon fill=\"#000000\" stroke=\"#000000\" points=\"180.4014,-543.2598 171.9921,-536.8149 174.5469,-547.0972 180.4014,-543.2598\"/>\n<text text-anchor=\"middle\" x=\"166.8982\" y=\"-557.5905\" font-family=\"Times,serif\" font-size=\"14.00\" fill=\"#000000\">True</text>\n</g>\n<!-- 2 -->\n<g id=\"node3\" class=\"node\">\n<title>2</title>\n<polygon fill=\"#ffffff\" stroke=\"#000000\" points=\"387,-544 226,-544 226,-461 387,-461 387,-544\"/>\n<text text-anchor=\"middle\" x=\"306.5\" y=\"-528.8\" font-family=\"Times,serif\" font-size=\"14.00\" fill=\"#000000\">petal width (cm) &lt;= 1.75</text>\n<text text-anchor=\"middle\" x=\"306.5\" y=\"-513.8\" font-family=\"Times,serif\" font-size=\"14.00\" fill=\"#000000\">gini = 0.5</text>\n<text text-anchor=\"middle\" x=\"306.5\" y=\"-498.8\" font-family=\"Times,serif\" font-size=\"14.00\" fill=\"#000000\">samples = 90</text>\n<text text-anchor=\"middle\" x=\"306.5\" y=\"-483.8\" font-family=\"Times,serif\" font-size=\"14.00\" fill=\"#000000\">value = [0, 45, 45]</text>\n<text text-anchor=\"middle\" x=\"306.5\" y=\"-468.8\" font-family=\"Times,serif\" font-size=\"14.00\" fill=\"#000000\">class = versicolor</text>\n</g>\n<!-- 0&#45;&gt;2 -->\n<g id=\"edge2\" class=\"edge\">\n<title>0&#45;&gt;2</title>\n<path fill=\"none\" stroke=\"#000000\" d=\"M255.1304,-579.8796C260.93,-571.1434 267.1059,-561.8404 273.0908,-552.8253\"/>\n<polygon fill=\"#000000\" stroke=\"#000000\" points=\"276.1368,-554.5652 278.7517,-544.2981 270.3049,-550.6935 276.1368,-554.5652\"/>\n<text text-anchor=\"middle\" x=\"283.7022\" y=\"-565.103\" font-family=\"Times,serif\" font-size=\"14.00\" fill=\"#000000\">False</text>\n</g>\n<!-- 3 -->\n<g id=\"node4\" class=\"node\">\n<title>3</title>\n<polygon fill=\"#4be78c\" stroke=\"#000000\" points=\"297.5,-425 133.5,-425 133.5,-342 297.5,-342 297.5,-425\"/>\n<text text-anchor=\"middle\" x=\"215.5\" y=\"-409.8\" font-family=\"Times,serif\" font-size=\"14.00\" fill=\"#000000\">petal length (cm) &lt;= 4.95</text>\n<text text-anchor=\"middle\" x=\"215.5\" y=\"-394.8\" font-family=\"Times,serif\" font-size=\"14.00\" fill=\"#000000\">gini = 0.153</text>\n<text text-anchor=\"middle\" x=\"215.5\" y=\"-379.8\" font-family=\"Times,serif\" font-size=\"14.00\" fill=\"#000000\">samples = 48</text>\n<text text-anchor=\"middle\" x=\"215.5\" y=\"-364.8\" font-family=\"Times,serif\" font-size=\"14.00\" fill=\"#000000\">value = [0, 44, 4]</text>\n<text text-anchor=\"middle\" x=\"215.5\" y=\"-349.8\" font-family=\"Times,serif\" font-size=\"14.00\" fill=\"#000000\">class = versicolor</text>\n</g>\n<!-- 2&#45;&gt;3 -->\n<g id=\"edge3\" class=\"edge\">\n<title>2&#45;&gt;3</title>\n<path fill=\"none\" stroke=\"#000000\" d=\"M274.6726,-460.8796C267.8543,-451.9633 260.5844,-442.4565 253.5579,-433.268\"/>\n<polygon fill=\"#000000\" stroke=\"#000000\" points=\"256.318,-431.1156 247.4632,-425.2981 250.7575,-435.3678 256.318,-431.1156\"/>\n</g>\n<!-- 10 -->\n<g id=\"node11\" class=\"node\">\n<title>10</title>\n<polygon fill=\"#843ee6\" stroke=\"#000000\" points=\"479.5,-425 315.5,-425 315.5,-342 479.5,-342 479.5,-425\"/>\n<text text-anchor=\"middle\" x=\"397.5\" y=\"-409.8\" font-family=\"Times,serif\" font-size=\"14.00\" fill=\"#000000\">petal length (cm) &lt;= 4.85</text>\n<text text-anchor=\"middle\" x=\"397.5\" y=\"-394.8\" font-family=\"Times,serif\" font-size=\"14.00\" fill=\"#000000\">gini = 0.046</text>\n<text text-anchor=\"middle\" x=\"397.5\" y=\"-379.8\" font-family=\"Times,serif\" font-size=\"14.00\" fill=\"#000000\">samples = 42</text>\n<text text-anchor=\"middle\" x=\"397.5\" y=\"-364.8\" font-family=\"Times,serif\" font-size=\"14.00\" fill=\"#000000\">value = [0, 1, 41]</text>\n<text text-anchor=\"middle\" x=\"397.5\" y=\"-349.8\" font-family=\"Times,serif\" font-size=\"14.00\" fill=\"#000000\">class = virginica</text>\n</g>\n<!-- 2&#45;&gt;10 -->\n<g id=\"edge10\" class=\"edge\">\n<title>2&#45;&gt;10</title>\n<path fill=\"none\" stroke=\"#000000\" d=\"M338.3274,-460.8796C345.1457,-451.9633 352.4156,-442.4565 359.4421,-433.268\"/>\n<polygon fill=\"#000000\" stroke=\"#000000\" points=\"362.2425,-435.3678 365.5368,-425.2981 356.682,-431.1156 362.2425,-435.3678\"/>\n</g>\n<!-- 4 -->\n<g id=\"node5\" class=\"node\">\n<title>4</title>\n<polygon fill=\"#39e581\" stroke=\"#000000\" points=\"117,-298.5 0,-298.5 0,-230.5 117,-230.5 117,-298.5\"/>\n<text text-anchor=\"middle\" x=\"58.5\" y=\"-283.3\" font-family=\"Times,serif\" font-size=\"14.00\" fill=\"#000000\">gini = 0.0</text>\n<text text-anchor=\"middle\" x=\"58.5\" y=\"-268.3\" font-family=\"Times,serif\" font-size=\"14.00\" fill=\"#000000\">samples = 42</text>\n<text text-anchor=\"middle\" x=\"58.5\" y=\"-253.3\" font-family=\"Times,serif\" font-size=\"14.00\" fill=\"#000000\">value = [0, 42, 0]</text>\n<text text-anchor=\"middle\" x=\"58.5\" y=\"-238.3\" font-family=\"Times,serif\" font-size=\"14.00\" fill=\"#000000\">class = versicolor</text>\n</g>\n<!-- 3&#45;&gt;4 -->\n<g id=\"edge4\" class=\"edge\">\n<title>3&#45;&gt;4</title>\n<path fill=\"none\" stroke=\"#000000\" d=\"M160.589,-341.8796C144.7006,-329.8368 127.3909,-316.7167 111.6143,-304.7586\"/>\n<polygon fill=\"#000000\" stroke=\"#000000\" points=\"113.6031,-301.8743 103.5195,-298.623 109.3747,-307.4529 113.6031,-301.8743\"/>\n</g>\n<!-- 5 -->\n<g id=\"node6\" class=\"node\">\n<title>5</title>\n<polygon fill=\"#c09cf2\" stroke=\"#000000\" points=\"296,-306 135,-306 135,-223 296,-223 296,-306\"/>\n<text text-anchor=\"middle\" x=\"215.5\" y=\"-290.8\" font-family=\"Times,serif\" font-size=\"14.00\" fill=\"#000000\">petal width (cm) &lt;= 1.55</text>\n<text text-anchor=\"middle\" x=\"215.5\" y=\"-275.8\" font-family=\"Times,serif\" font-size=\"14.00\" fill=\"#000000\">gini = 0.444</text>\n<text text-anchor=\"middle\" x=\"215.5\" y=\"-260.8\" font-family=\"Times,serif\" font-size=\"14.00\" fill=\"#000000\">samples = 6</text>\n<text text-anchor=\"middle\" x=\"215.5\" y=\"-245.8\" font-family=\"Times,serif\" font-size=\"14.00\" fill=\"#000000\">value = [0, 2, 4]</text>\n<text text-anchor=\"middle\" x=\"215.5\" y=\"-230.8\" font-family=\"Times,serif\" font-size=\"14.00\" fill=\"#000000\">class = virginica</text>\n</g>\n<!-- 3&#45;&gt;5 -->\n<g id=\"edge5\" class=\"edge\">\n<title>3&#45;&gt;5</title>\n<path fill=\"none\" stroke=\"#000000\" d=\"M215.5,-341.8796C215.5,-333.6838 215.5,-324.9891 215.5,-316.5013\"/>\n<polygon fill=\"#000000\" stroke=\"#000000\" points=\"219.0001,-316.298 215.5,-306.2981 212.0001,-316.2981 219.0001,-316.298\"/>\n</g>\n<!-- 6 -->\n<g id=\"node7\" class=\"node\">\n<title>6</title>\n<polygon fill=\"#8139e5\" stroke=\"#000000\" points=\"121.5,-179.5 11.5,-179.5 11.5,-111.5 121.5,-111.5 121.5,-179.5\"/>\n<text text-anchor=\"middle\" x=\"66.5\" y=\"-164.3\" font-family=\"Times,serif\" font-size=\"14.00\" fill=\"#000000\">gini = 0.0</text>\n<text text-anchor=\"middle\" x=\"66.5\" y=\"-149.3\" font-family=\"Times,serif\" font-size=\"14.00\" fill=\"#000000\">samples = 3</text>\n<text text-anchor=\"middle\" x=\"66.5\" y=\"-134.3\" font-family=\"Times,serif\" font-size=\"14.00\" fill=\"#000000\">value = [0, 0, 3]</text>\n<text text-anchor=\"middle\" x=\"66.5\" y=\"-119.3\" font-family=\"Times,serif\" font-size=\"14.00\" fill=\"#000000\">class = virginica</text>\n</g>\n<!-- 5&#45;&gt;6 -->\n<g id=\"edge6\" class=\"edge\">\n<title>5&#45;&gt;6</title>\n<path fill=\"none\" stroke=\"#000000\" d=\"M163.387,-222.8796C148.5174,-211.0038 132.336,-198.0804 117.5317,-186.2568\"/>\n<polygon fill=\"#000000\" stroke=\"#000000\" points=\"119.4638,-183.3207 109.4658,-179.8149 115.0954,-188.7904 119.4638,-183.3207\"/>\n</g>\n<!-- 7 -->\n<g id=\"node8\" class=\"node\">\n<title>7</title>\n<polygon fill=\"#9cf2c0\" stroke=\"#000000\" points=\"303.5,-187 139.5,-187 139.5,-104 303.5,-104 303.5,-187\"/>\n<text text-anchor=\"middle\" x=\"221.5\" y=\"-171.8\" font-family=\"Times,serif\" font-size=\"14.00\" fill=\"#000000\">petal length (cm) &lt;= 5.45</text>\n<text text-anchor=\"middle\" x=\"221.5\" y=\"-156.8\" font-family=\"Times,serif\" font-size=\"14.00\" fill=\"#000000\">gini = 0.444</text>\n<text text-anchor=\"middle\" x=\"221.5\" y=\"-141.8\" font-family=\"Times,serif\" font-size=\"14.00\" fill=\"#000000\">samples = 3</text>\n<text text-anchor=\"middle\" x=\"221.5\" y=\"-126.8\" font-family=\"Times,serif\" font-size=\"14.00\" fill=\"#000000\">value = [0, 2, 1]</text>\n<text text-anchor=\"middle\" x=\"221.5\" y=\"-111.8\" font-family=\"Times,serif\" font-size=\"14.00\" fill=\"#000000\">class = versicolor</text>\n</g>\n<!-- 5&#45;&gt;7 -->\n<g id=\"edge7\" class=\"edge\">\n<title>5&#45;&gt;7</title>\n<path fill=\"none\" stroke=\"#000000\" d=\"M217.5985,-222.8796C218.0117,-214.6838 218.4501,-205.9891 218.8781,-197.5013\"/>\n<polygon fill=\"#000000\" stroke=\"#000000\" points=\"222.3844,-197.4617 219.3925,-187.2981 215.3933,-197.1091 222.3844,-197.4617\"/>\n</g>\n<!-- 8 -->\n<g id=\"node9\" class=\"node\">\n<title>8</title>\n<polygon fill=\"#39e581\" stroke=\"#000000\" points=\"214,-68 99,-68 99,0 214,0 214,-68\"/>\n<text text-anchor=\"middle\" x=\"156.5\" y=\"-52.8\" font-family=\"Times,serif\" font-size=\"14.00\" fill=\"#000000\">gini = 0.0</text>\n<text text-anchor=\"middle\" x=\"156.5\" y=\"-37.8\" font-family=\"Times,serif\" font-size=\"14.00\" fill=\"#000000\">samples = 2</text>\n<text text-anchor=\"middle\" x=\"156.5\" y=\"-22.8\" font-family=\"Times,serif\" font-size=\"14.00\" fill=\"#000000\">value = [0, 2, 0]</text>\n<text text-anchor=\"middle\" x=\"156.5\" y=\"-7.8\" font-family=\"Times,serif\" font-size=\"14.00\" fill=\"#000000\">class = versicolor</text>\n</g>\n<!-- 7&#45;&gt;8 -->\n<g id=\"edge8\" class=\"edge\">\n<title>7&#45;&gt;8</title>\n<path fill=\"none\" stroke=\"#000000\" d=\"M197.2964,-103.9815C192.1529,-95.1585 186.7123,-85.8258 181.5384,-76.9506\"/>\n<polygon fill=\"#000000\" stroke=\"#000000\" points=\"184.5344,-75.1402 176.4743,-68.2637 178.487,-78.6656 184.5344,-75.1402\"/>\n</g>\n<!-- 9 -->\n<g id=\"node10\" class=\"node\">\n<title>9</title>\n<polygon fill=\"#8139e5\" stroke=\"#000000\" points=\"342.5,-68 232.5,-68 232.5,0 342.5,0 342.5,-68\"/>\n<text text-anchor=\"middle\" x=\"287.5\" y=\"-52.8\" font-family=\"Times,serif\" font-size=\"14.00\" fill=\"#000000\">gini = 0.0</text>\n<text text-anchor=\"middle\" x=\"287.5\" y=\"-37.8\" font-family=\"Times,serif\" font-size=\"14.00\" fill=\"#000000\">samples = 1</text>\n<text text-anchor=\"middle\" x=\"287.5\" y=\"-22.8\" font-family=\"Times,serif\" font-size=\"14.00\" fill=\"#000000\">value = [0, 0, 1]</text>\n<text text-anchor=\"middle\" x=\"287.5\" y=\"-7.8\" font-family=\"Times,serif\" font-size=\"14.00\" fill=\"#000000\">class = virginica</text>\n</g>\n<!-- 7&#45;&gt;9 -->\n<g id=\"edge9\" class=\"edge\">\n<title>7&#45;&gt;9</title>\n<path fill=\"none\" stroke=\"#000000\" d=\"M246.076,-103.9815C251.2986,-95.1585 256.8229,-85.8258 262.0763,-76.9506\"/>\n<polygon fill=\"#000000\" stroke=\"#000000\" points=\"265.1364,-78.652 267.2184,-68.2637 259.1126,-75.0863 265.1364,-78.652\"/>\n</g>\n<!-- 11 -->\n<g id=\"node12\" class=\"node\">\n<title>11</title>\n<polygon fill=\"#c09cf2\" stroke=\"#000000\" points=\"480,-306 315,-306 315,-223 480,-223 480,-306\"/>\n<text text-anchor=\"middle\" x=\"397.5\" y=\"-290.8\" font-family=\"Times,serif\" font-size=\"14.00\" fill=\"#000000\">sepal length (cm) &lt;= 5.95</text>\n<text text-anchor=\"middle\" x=\"397.5\" y=\"-275.8\" font-family=\"Times,serif\" font-size=\"14.00\" fill=\"#000000\">gini = 0.444</text>\n<text text-anchor=\"middle\" x=\"397.5\" y=\"-260.8\" font-family=\"Times,serif\" font-size=\"14.00\" fill=\"#000000\">samples = 3</text>\n<text text-anchor=\"middle\" x=\"397.5\" y=\"-245.8\" font-family=\"Times,serif\" font-size=\"14.00\" fill=\"#000000\">value = [0, 1, 2]</text>\n<text text-anchor=\"middle\" x=\"397.5\" y=\"-230.8\" font-family=\"Times,serif\" font-size=\"14.00\" fill=\"#000000\">class = virginica</text>\n</g>\n<!-- 10&#45;&gt;11 -->\n<g id=\"edge11\" class=\"edge\">\n<title>10&#45;&gt;11</title>\n<path fill=\"none\" stroke=\"#000000\" d=\"M397.5,-341.8796C397.5,-333.6838 397.5,-324.9891 397.5,-316.5013\"/>\n<polygon fill=\"#000000\" stroke=\"#000000\" points=\"401.0001,-316.298 397.5,-306.2981 394.0001,-316.2981 401.0001,-316.298\"/>\n</g>\n<!-- 14 -->\n<g id=\"node15\" class=\"node\">\n<title>14</title>\n<polygon fill=\"#8139e5\" stroke=\"#000000\" points=\"615,-298.5 498,-298.5 498,-230.5 615,-230.5 615,-298.5\"/>\n<text text-anchor=\"middle\" x=\"556.5\" y=\"-283.3\" font-family=\"Times,serif\" font-size=\"14.00\" fill=\"#000000\">gini = 0.0</text>\n<text text-anchor=\"middle\" x=\"556.5\" y=\"-268.3\" font-family=\"Times,serif\" font-size=\"14.00\" fill=\"#000000\">samples = 39</text>\n<text text-anchor=\"middle\" x=\"556.5\" y=\"-253.3\" font-family=\"Times,serif\" font-size=\"14.00\" fill=\"#000000\">value = [0, 0, 39]</text>\n<text text-anchor=\"middle\" x=\"556.5\" y=\"-238.3\" font-family=\"Times,serif\" font-size=\"14.00\" fill=\"#000000\">class = virginica</text>\n</g>\n<!-- 10&#45;&gt;14 -->\n<g id=\"edge14\" class=\"edge\">\n<title>10&#45;&gt;14</title>\n<path fill=\"none\" stroke=\"#000000\" d=\"M453.1105,-341.8796C469.2013,-329.8368 486.7315,-316.7167 502.7091,-304.7586\"/>\n<polygon fill=\"#000000\" stroke=\"#000000\" points=\"504.9982,-307.4171 510.907,-298.623 500.8038,-301.8129 504.9982,-307.4171\"/>\n</g>\n<!-- 12 -->\n<g id=\"node13\" class=\"node\">\n<title>12</title>\n<polygon fill=\"#39e581\" stroke=\"#000000\" points=\"449,-179.5 334,-179.5 334,-111.5 449,-111.5 449,-179.5\"/>\n<text text-anchor=\"middle\" x=\"391.5\" y=\"-164.3\" font-family=\"Times,serif\" font-size=\"14.00\" fill=\"#000000\">gini = 0.0</text>\n<text text-anchor=\"middle\" x=\"391.5\" y=\"-149.3\" font-family=\"Times,serif\" font-size=\"14.00\" fill=\"#000000\">samples = 1</text>\n<text text-anchor=\"middle\" x=\"391.5\" y=\"-134.3\" font-family=\"Times,serif\" font-size=\"14.00\" fill=\"#000000\">value = [0, 1, 0]</text>\n<text text-anchor=\"middle\" x=\"391.5\" y=\"-119.3\" font-family=\"Times,serif\" font-size=\"14.00\" fill=\"#000000\">class = versicolor</text>\n</g>\n<!-- 11&#45;&gt;12 -->\n<g id=\"edge12\" class=\"edge\">\n<title>11&#45;&gt;12</title>\n<path fill=\"none\" stroke=\"#000000\" d=\"M395.4015,-222.8796C394.8637,-212.2134 394.2833,-200.7021 393.7387,-189.9015\"/>\n<polygon fill=\"#000000\" stroke=\"#000000\" points=\"397.2294,-189.626 393.2302,-179.8149 390.2383,-189.9785 397.2294,-189.626\"/>\n</g>\n<!-- 13 -->\n<g id=\"node14\" class=\"node\">\n<title>13</title>\n<polygon fill=\"#8139e5\" stroke=\"#000000\" points=\"577.5,-179.5 467.5,-179.5 467.5,-111.5 577.5,-111.5 577.5,-179.5\"/>\n<text text-anchor=\"middle\" x=\"522.5\" y=\"-164.3\" font-family=\"Times,serif\" font-size=\"14.00\" fill=\"#000000\">gini = 0.0</text>\n<text text-anchor=\"middle\" x=\"522.5\" y=\"-149.3\" font-family=\"Times,serif\" font-size=\"14.00\" fill=\"#000000\">samples = 2</text>\n<text text-anchor=\"middle\" x=\"522.5\" y=\"-134.3\" font-family=\"Times,serif\" font-size=\"14.00\" fill=\"#000000\">value = [0, 0, 2]</text>\n<text text-anchor=\"middle\" x=\"522.5\" y=\"-119.3\" font-family=\"Times,serif\" font-size=\"14.00\" fill=\"#000000\">class = virginica</text>\n</g>\n<!-- 11&#45;&gt;13 -->\n<g id=\"edge13\" class=\"edge\">\n<title>11&#45;&gt;13</title>\n<path fill=\"none\" stroke=\"#000000\" d=\"M441.2189,-222.8796C453.4625,-211.2237 466.7661,-198.5587 478.9971,-186.9148\"/>\n<polygon fill=\"#000000\" stroke=\"#000000\" points=\"481.6254,-189.245 486.4549,-179.8149 476.7988,-184.1751 481.6254,-189.245\"/>\n</g>\n</g>\n</svg>\n"
          },
          "metadata": {
            "tags": []
          },
          "execution_count": 20
        }
      ]
    },
    {
      "cell_type": "code",
      "metadata": {
        "id": "prvd2phWVggZ",
        "colab_type": "code",
        "colab": {}
      },
      "source": [
        ""
      ],
      "execution_count": null,
      "outputs": []
    }
  ]
}