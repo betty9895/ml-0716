{
  "nbformat": 4,
  "nbformat_minor": 0,
  "metadata": {
    "colab": {
      "name": "iris.ipynb",
      "provenance": [],
      "collapsed_sections": [],
      "mount_file_id": "1S4Zb_wLbQSdH9F_4L6riEUPouEy48D6H",
      "authorship_tag": "ABX9TyM+DBpgbBQCFV/uNI2Rm/AM",
      "include_colab_link": true
    },
    "kernelspec": {
      "name": "python3",
      "display_name": "Python 3"
    },
    "accelerator": "GPU"
  },
  "cells": [
    {
      "cell_type": "markdown",
      "metadata": {
        "id": "view-in-github",
        "colab_type": "text"
      },
      "source": [
        "<a href=\"https://colab.research.google.com/github/betty9895/ml-0716/blob/master/iris.ipynb\" target=\"_parent\"><img src=\"https://colab.research.google.com/assets/colab-badge.svg\" alt=\"Open In Colab\"/></a>"
      ]
    },
    {
      "cell_type": "code",
      "metadata": {
        "id": "diI8VrXViBNF",
        "colab_type": "code",
        "colab": {}
      },
      "source": [
        "from sklearn.datasets import load_iris\n",
        "import pandas as pd\n",
        "\n",
        "iris = load_iris()\n",
        "df = pd.DataFrame(iris[\"data\"],\n",
        "                  columns = iris[\"feature_names\"])\n",
        "df[\"answer\"] = iris[\"target\"]\n",
        "df.to_csv(\"iris.csv\",encoding=\"utf8\",index = False)"
      ],
      "execution_count": 24,
      "outputs": []
    },
    {
      "cell_type": "code",
      "metadata": {
        "id": "PhvqPhV2OS8z",
        "colab_type": "code",
        "colab": {}
      },
      "source": [
        "# !pip install opencv-python\n",
        "# !ls -la"
      ],
      "execution_count": 25,
      "outputs": []
    },
    {
      "cell_type": "code",
      "metadata": {
        "id": "NM6EiVoXOjqN",
        "colab_type": "code",
        "colab": {
          "base_uri": "https://localhost:8080/",
          "height": 1000
        },
        "outputId": "41d54245-d285-4199-8114-6f2400b2c0a8"
      },
      "source": [
        "from sklearn.model_selection import train_test_split\n",
        "# train_test_split([1,2,3,4],\n",
        "#                  [5,6,7,8],\n",
        "#                  [9,10,11,12],\n",
        "#                  test_size = 0.1 )\n",
        "# 隨機切，非固定\n",
        "x_train, x_test, y_train, y_test = train_test_split(iris[\"data\"], iris[\"target\"], test_size = 0.1)\n",
        "\n",
        "x_train, x_test, y_train, y_test"
      ],
      "execution_count": 26,
      "outputs": [
        {
          "output_type": "execute_result",
          "data": {
            "text/plain": [
              "(array([[5.8, 2.7, 5.1, 1.9],\n",
              "        [6.1, 2.8, 4. , 1.3],\n",
              "        [6.1, 3. , 4.6, 1.4],\n",
              "        [5. , 3.6, 1.4, 0.2],\n",
              "        [5.9, 3. , 4.2, 1.5],\n",
              "        [5.1, 3.7, 1.5, 0.4],\n",
              "        [4.9, 2.5, 4.5, 1.7],\n",
              "        [5.6, 2.5, 3.9, 1.1],\n",
              "        [5.7, 2.8, 4.1, 1.3],\n",
              "        [5.2, 3.4, 1.4, 0.2],\n",
              "        [7.7, 2.6, 6.9, 2.3],\n",
              "        [6.5, 3. , 5.8, 2.2],\n",
              "        [6.8, 2.8, 4.8, 1.4],\n",
              "        [4.9, 3.6, 1.4, 0.1],\n",
              "        [5.7, 4.4, 1.5, 0.4],\n",
              "        [6.8, 3.2, 5.9, 2.3],\n",
              "        [5.8, 2.7, 4.1, 1. ],\n",
              "        [5.7, 2.9, 4.2, 1.3],\n",
              "        [5.1, 3.5, 1.4, 0.3],\n",
              "        [6.2, 3.4, 5.4, 2.3],\n",
              "        [6.7, 3.1, 5.6, 2.4],\n",
              "        [5.8, 2.6, 4. , 1.2],\n",
              "        [5.5, 4.2, 1.4, 0.2],\n",
              "        [6.4, 3.2, 4.5, 1.5],\n",
              "        [5. , 3.4, 1.5, 0.2],\n",
              "        [4.3, 3. , 1.1, 0.1],\n",
              "        [6. , 2.2, 4. , 1. ],\n",
              "        [4.6, 3.2, 1.4, 0.2],\n",
              "        [4.8, 3. , 1.4, 0.1],\n",
              "        [7.7, 3.8, 6.7, 2.2],\n",
              "        [7. , 3.2, 4.7, 1.4],\n",
              "        [6.7, 3.1, 4.7, 1.5],\n",
              "        [7.7, 2.8, 6.7, 2. ],\n",
              "        [5.5, 3.5, 1.3, 0.2],\n",
              "        [5.9, 3.2, 4.8, 1.8],\n",
              "        [4.8, 3.4, 1.9, 0.2],\n",
              "        [7.7, 3. , 6.1, 2.3],\n",
              "        [5.5, 2.6, 4.4, 1.2],\n",
              "        [6.5, 3. , 5.2, 2. ],\n",
              "        [6.3, 2.9, 5.6, 1.8],\n",
              "        [5.1, 3.8, 1.6, 0.2],\n",
              "        [5.7, 2.8, 4.5, 1.3],\n",
              "        [5.5, 2.5, 4. , 1.3],\n",
              "        [5.8, 2.7, 5.1, 1.9],\n",
              "        [7.9, 3.8, 6.4, 2. ],\n",
              "        [5. , 3.5, 1.3, 0.3],\n",
              "        [6.1, 2.8, 4.7, 1.2],\n",
              "        [5.8, 2.7, 3.9, 1.2],\n",
              "        [6.2, 2.2, 4.5, 1.5],\n",
              "        [7.2, 3. , 5.8, 1.6],\n",
              "        [6.9, 3.2, 5.7, 2.3],\n",
              "        [5.6, 2.7, 4.2, 1.3],\n",
              "        [6.7, 3.3, 5.7, 2.1],\n",
              "        [4.7, 3.2, 1.3, 0.2],\n",
              "        [5. , 3.5, 1.6, 0.6],\n",
              "        [6.2, 2.8, 4.8, 1.8],\n",
              "        [6.3, 2.5, 5. , 1.9],\n",
              "        [5.6, 2.8, 4.9, 2. ],\n",
              "        [5.4, 3.9, 1.3, 0.4],\n",
              "        [6.7, 3. , 5.2, 2.3],\n",
              "        [6.1, 2.6, 5.6, 1.4],\n",
              "        [6.9, 3.1, 5.4, 2.1],\n",
              "        [5.7, 3. , 4.2, 1.2],\n",
              "        [4.8, 3.4, 1.6, 0.2],\n",
              "        [5.2, 4.1, 1.5, 0.1],\n",
              "        [6.1, 2.9, 4.7, 1.4],\n",
              "        [7.4, 2.8, 6.1, 1.9],\n",
              "        [6.4, 2.8, 5.6, 2.1],\n",
              "        [5.2, 3.5, 1.5, 0.2],\n",
              "        [5.1, 3.5, 1.4, 0.2],\n",
              "        [5. , 2.3, 3.3, 1. ],\n",
              "        [5. , 3.2, 1.2, 0.2],\n",
              "        [6.8, 3. , 5.5, 2.1],\n",
              "        [6.4, 2.8, 5.6, 2.2],\n",
              "        [6.5, 3. , 5.5, 1.8],\n",
              "        [4.4, 3.2, 1.3, 0.2],\n",
              "        [4.7, 3.2, 1.6, 0.2],\n",
              "        [6.1, 3. , 4.9, 1.8],\n",
              "        [6. , 3. , 4.8, 1.8],\n",
              "        [4.6, 3.4, 1.4, 0.3],\n",
              "        [4.6, 3.6, 1. , 0.2],\n",
              "        [6.4, 3.1, 5.5, 1.8],\n",
              "        [5.1, 3.3, 1.7, 0.5],\n",
              "        [5.8, 4. , 1.2, 0.2],\n",
              "        [5. , 2. , 3.5, 1. ],\n",
              "        [6.9, 3.1, 4.9, 1.5],\n",
              "        [6.7, 3. , 5. , 1.7],\n",
              "        [5.4, 3.4, 1.7, 0.2],\n",
              "        [4.6, 3.1, 1.5, 0.2],\n",
              "        [7.2, 3.6, 6.1, 2.5],\n",
              "        [5.2, 2.7, 3.9, 1.4],\n",
              "        [5.7, 2.5, 5. , 2. ],\n",
              "        [7.1, 3. , 5.9, 2.1],\n",
              "        [5. , 3.3, 1.4, 0.2],\n",
              "        [7.3, 2.9, 6.3, 1.8],\n",
              "        [5.4, 3.4, 1.5, 0.4],\n",
              "        [5.6, 3. , 4.1, 1.3],\n",
              "        [4.9, 2.4, 3.3, 1. ],\n",
              "        [6. , 2.9, 4.5, 1.5],\n",
              "        [6.4, 3.2, 5.3, 2.3],\n",
              "        [4.9, 3. , 1.4, 0.2],\n",
              "        [6.7, 3.1, 4.4, 1.4],\n",
              "        [4.9, 3.1, 1.5, 0.1],\n",
              "        [7.2, 3.2, 6. , 1.8],\n",
              "        [7.6, 3. , 6.6, 2.1],\n",
              "        [5.1, 2.5, 3. , 1.1],\n",
              "        [5. , 3. , 1.6, 0.2],\n",
              "        [5.4, 3. , 4.5, 1.5],\n",
              "        [6.3, 2.7, 4.9, 1.8],\n",
              "        [6. , 3.4, 4.5, 1.6],\n",
              "        [6. , 2.2, 5. , 1.5],\n",
              "        [6.9, 3.1, 5.1, 2.3],\n",
              "        [6.7, 2.5, 5.8, 1.8],\n",
              "        [4.5, 2.3, 1.3, 0.3],\n",
              "        [5.4, 3.9, 1.7, 0.4],\n",
              "        [6.3, 3.3, 4.7, 1.6],\n",
              "        [6.3, 2.8, 5.1, 1.5],\n",
              "        [5.5, 2.4, 3.8, 1.1],\n",
              "        [5.5, 2.3, 4. , 1.3],\n",
              "        [5.9, 3. , 5.1, 1.8],\n",
              "        [5.1, 3.8, 1.9, 0.4],\n",
              "        [6.3, 3.4, 5.6, 2.4],\n",
              "        [5.7, 3.8, 1.7, 0.3],\n",
              "        [5.6, 2.9, 3.6, 1.3],\n",
              "        [6.7, 3.3, 5.7, 2.5],\n",
              "        [6.3, 2.5, 4.9, 1.5],\n",
              "        [6.6, 3. , 4.4, 1.4],\n",
              "        [5. , 3.4, 1.6, 0.4],\n",
              "        [6.3, 2.3, 4.4, 1.3],\n",
              "        [6.5, 2.8, 4.6, 1.5],\n",
              "        [6.4, 2.9, 4.3, 1.3],\n",
              "        [4.4, 3. , 1.3, 0.2],\n",
              "        [5.6, 3. , 4.5, 1.5],\n",
              "        [6.6, 2.9, 4.6, 1.3],\n",
              "        [6.3, 3.3, 6. , 2.5]]), array([[5.5, 2.4, 3.7, 1. ],\n",
              "        [5.7, 2.6, 3.5, 1. ],\n",
              "        [5.8, 2.8, 5.1, 2.4],\n",
              "        [4.9, 3.1, 1.5, 0.2],\n",
              "        [4.8, 3. , 1.4, 0.3],\n",
              "        [4.4, 2.9, 1.4, 0.2],\n",
              "        [5.1, 3.4, 1.5, 0.2],\n",
              "        [6. , 2.7, 5.1, 1.6],\n",
              "        [5.4, 3.7, 1.5, 0.2],\n",
              "        [5.1, 3.8, 1.5, 0.3],\n",
              "        [6.4, 2.7, 5.3, 1.9],\n",
              "        [6.5, 3.2, 5.1, 2. ],\n",
              "        [6.2, 2.9, 4.3, 1.3],\n",
              "        [4.8, 3.1, 1.6, 0.2],\n",
              "        [5.3, 3.7, 1.5, 0.2]]), array([2, 1, 1, 0, 1, 0, 2, 1, 1, 0, 2, 2, 1, 0, 0, 2, 1, 1, 0, 2, 2, 1,\n",
              "        0, 1, 0, 0, 1, 0, 0, 2, 1, 1, 2, 0, 1, 0, 2, 1, 2, 2, 0, 1, 1, 2,\n",
              "        2, 0, 1, 1, 1, 2, 2, 1, 2, 0, 0, 2, 2, 2, 0, 2, 2, 2, 1, 0, 0, 1,\n",
              "        2, 2, 0, 0, 1, 0, 2, 2, 2, 0, 0, 2, 2, 0, 0, 2, 0, 0, 1, 1, 1, 0,\n",
              "        0, 2, 1, 2, 2, 0, 2, 0, 1, 1, 1, 2, 0, 1, 0, 2, 2, 1, 0, 1, 2, 1,\n",
              "        2, 2, 2, 0, 0, 1, 2, 1, 1, 2, 0, 2, 0, 1, 2, 1, 1, 0, 1, 1, 1, 0,\n",
              "        1, 1, 2]), array([1, 1, 2, 0, 0, 0, 0, 1, 0, 0, 2, 2, 1, 0, 0]))"
            ]
          },
          "metadata": {
            "tags": []
          },
          "execution_count": 26
        }
      ]
    },
    {
      "cell_type": "code",
      "metadata": {
        "id": "ztT4xTSWTEfM",
        "colab_type": "code",
        "colab": {
          "base_uri": "https://localhost:8080/",
          "height": 117
        },
        "outputId": "fbff3292-b7ef-42f0-ea3c-cb5ded203b3e"
      },
      "source": [
        "from sklearn.tree import DecisionTreeClassifier\n",
        "clf = DecisionTreeClassifier(max_depth=2)\n",
        "clf.fit(x_train, y_train)"
      ],
      "execution_count": 27,
      "outputs": [
        {
          "output_type": "execute_result",
          "data": {
            "text/plain": [
              "DecisionTreeClassifier(ccp_alpha=0.0, class_weight=None, criterion='gini',\n",
              "                       max_depth=2, max_features=None, max_leaf_nodes=None,\n",
              "                       min_impurity_decrease=0.0, min_impurity_split=None,\n",
              "                       min_samples_leaf=1, min_samples_split=2,\n",
              "                       min_weight_fraction_leaf=0.0, presort='deprecated',\n",
              "                       random_state=None, splitter='best')"
            ]
          },
          "metadata": {
            "tags": []
          },
          "execution_count": 27
        }
      ]
    },
    {
      "cell_type": "code",
      "metadata": {
        "id": "kL5t1tqiTvhx",
        "colab_type": "code",
        "colab": {
          "base_uri": "https://localhost:8080/",
          "height": 439
        },
        "outputId": "d6679c7e-9642-4806-bb80-d610ec428de4"
      },
      "source": [
        "from sklearn.tree import export_graphviz\n",
        "import graphviz\n",
        "g = export_graphviz(clf,\n",
        "                  feature_names=iris[\"feature_names\"],\n",
        "                  class_names=iris[\"target_names\"],\n",
        "                  filled=True)\n",
        "graphviz.Source(g)"
      ],
      "execution_count": 28,
      "outputs": [
        {
          "output_type": "execute_result",
          "data": {
            "text/plain": [
              "<graphviz.files.Source at 0x7f266e418c88>"
            ],
            "image/svg+xml": "<?xml version=\"1.0\" encoding=\"UTF-8\" standalone=\"no\"?>\n<!DOCTYPE svg PUBLIC \"-//W3C//DTD SVG 1.1//EN\"\n \"http://www.w3.org/Graphics/SVG/1.1/DTD/svg11.dtd\">\n<!-- Generated by graphviz version 2.40.1 (20161225.0304)\n -->\n<!-- Title: Tree Pages: 1 -->\n<svg width=\"349pt\" height=\"314pt\"\n viewBox=\"0.00 0.00 349.00 314.00\" xmlns=\"http://www.w3.org/2000/svg\" xmlns:xlink=\"http://www.w3.org/1999/xlink\">\n<g id=\"graph0\" class=\"graph\" transform=\"scale(1 1) rotate(0) translate(4 310)\">\n<title>Tree</title>\n<polygon fill=\"#ffffff\" stroke=\"transparent\" points=\"-4,4 -4,-310 345,-310 345,4 -4,4\"/>\n<!-- 0 -->\n<g id=\"node1\" class=\"node\">\n<title>0</title>\n<polygon fill=\"#fefdff\" stroke=\"#000000\" points=\"218.5,-306 54.5,-306 54.5,-223 218.5,-223 218.5,-306\"/>\n<text text-anchor=\"middle\" x=\"136.5\" y=\"-290.8\" font-family=\"Times,serif\" font-size=\"14.00\" fill=\"#000000\">petal length (cm) &lt;= 2.45</text>\n<text text-anchor=\"middle\" x=\"136.5\" y=\"-275.8\" font-family=\"Times,serif\" font-size=\"14.00\" fill=\"#000000\">gini = 0.666</text>\n<text text-anchor=\"middle\" x=\"136.5\" y=\"-260.8\" font-family=\"Times,serif\" font-size=\"14.00\" fill=\"#000000\">samples = 135</text>\n<text text-anchor=\"middle\" x=\"136.5\" y=\"-245.8\" font-family=\"Times,serif\" font-size=\"14.00\" fill=\"#000000\">value = [42, 46, 47]</text>\n<text text-anchor=\"middle\" x=\"136.5\" y=\"-230.8\" font-family=\"Times,serif\" font-size=\"14.00\" fill=\"#000000\">class = virginica</text>\n</g>\n<!-- 1 -->\n<g id=\"node2\" class=\"node\">\n<title>1</title>\n<polygon fill=\"#e58139\" stroke=\"#000000\" points=\"117,-179.5 0,-179.5 0,-111.5 117,-111.5 117,-179.5\"/>\n<text text-anchor=\"middle\" x=\"58.5\" y=\"-164.3\" font-family=\"Times,serif\" font-size=\"14.00\" fill=\"#000000\">gini = 0.0</text>\n<text text-anchor=\"middle\" x=\"58.5\" y=\"-149.3\" font-family=\"Times,serif\" font-size=\"14.00\" fill=\"#000000\">samples = 42</text>\n<text text-anchor=\"middle\" x=\"58.5\" y=\"-134.3\" font-family=\"Times,serif\" font-size=\"14.00\" fill=\"#000000\">value = [42, 0, 0]</text>\n<text text-anchor=\"middle\" x=\"58.5\" y=\"-119.3\" font-family=\"Times,serif\" font-size=\"14.00\" fill=\"#000000\">class = setosa</text>\n</g>\n<!-- 0&#45;&gt;1 -->\n<g id=\"edge1\" class=\"edge\">\n<title>0&#45;&gt;1</title>\n<path fill=\"none\" stroke=\"#000000\" d=\"M109.2194,-222.8796C101.8677,-211.6636 93.9036,-199.5131 86.5126,-188.2372\"/>\n<polygon fill=\"#000000\" stroke=\"#000000\" points=\"89.4014,-186.2598 80.9921,-179.8149 83.5469,-190.0972 89.4014,-186.2598\"/>\n<text text-anchor=\"middle\" x=\"75.8982\" y=\"-200.5905\" font-family=\"Times,serif\" font-size=\"14.00\" fill=\"#000000\">True</text>\n</g>\n<!-- 2 -->\n<g id=\"node3\" class=\"node\">\n<title>2</title>\n<polygon fill=\"#fcfbfe\" stroke=\"#000000\" points=\"296,-187 135,-187 135,-104 296,-104 296,-187\"/>\n<text text-anchor=\"middle\" x=\"215.5\" y=\"-171.8\" font-family=\"Times,serif\" font-size=\"14.00\" fill=\"#000000\">petal width (cm) &lt;= 1.75</text>\n<text text-anchor=\"middle\" x=\"215.5\" y=\"-156.8\" font-family=\"Times,serif\" font-size=\"14.00\" fill=\"#000000\">gini = 0.5</text>\n<text text-anchor=\"middle\" x=\"215.5\" y=\"-141.8\" font-family=\"Times,serif\" font-size=\"14.00\" fill=\"#000000\">samples = 93</text>\n<text text-anchor=\"middle\" x=\"215.5\" y=\"-126.8\" font-family=\"Times,serif\" font-size=\"14.00\" fill=\"#000000\">value = [0, 46, 47]</text>\n<text text-anchor=\"middle\" x=\"215.5\" y=\"-111.8\" font-family=\"Times,serif\" font-size=\"14.00\" fill=\"#000000\">class = virginica</text>\n</g>\n<!-- 0&#45;&gt;2 -->\n<g id=\"edge2\" class=\"edge\">\n<title>0&#45;&gt;2</title>\n<path fill=\"none\" stroke=\"#000000\" d=\"M164.1304,-222.8796C169.93,-214.1434 176.1059,-204.8404 182.0908,-195.8253\"/>\n<polygon fill=\"#000000\" stroke=\"#000000\" points=\"185.1368,-197.5652 187.7517,-187.2981 179.3049,-193.6935 185.1368,-197.5652\"/>\n<text text-anchor=\"middle\" x=\"192.7022\" y=\"-208.103\" font-family=\"Times,serif\" font-size=\"14.00\" fill=\"#000000\">False</text>\n</g>\n<!-- 3 -->\n<g id=\"node4\" class=\"node\">\n<title>3</title>\n<polygon fill=\"#4fe88f\" stroke=\"#000000\" points=\"206,-68 89,-68 89,0 206,0 206,-68\"/>\n<text text-anchor=\"middle\" x=\"147.5\" y=\"-52.8\" font-family=\"Times,serif\" font-size=\"14.00\" fill=\"#000000\">gini = 0.18</text>\n<text text-anchor=\"middle\" x=\"147.5\" y=\"-37.8\" font-family=\"Times,serif\" font-size=\"14.00\" fill=\"#000000\">samples = 50</text>\n<text text-anchor=\"middle\" x=\"147.5\" y=\"-22.8\" font-family=\"Times,serif\" font-size=\"14.00\" fill=\"#000000\">value = [0, 45, 5]</text>\n<text text-anchor=\"middle\" x=\"147.5\" y=\"-7.8\" font-family=\"Times,serif\" font-size=\"14.00\" fill=\"#000000\">class = versicolor</text>\n</g>\n<!-- 2&#45;&gt;3 -->\n<g id=\"edge3\" class=\"edge\">\n<title>2&#45;&gt;3</title>\n<path fill=\"none\" stroke=\"#000000\" d=\"M190.1793,-103.9815C184.7984,-95.1585 179.1068,-85.8258 173.6941,-76.9506\"/>\n<polygon fill=\"#000000\" stroke=\"#000000\" points=\"176.5912,-74.9789 168.3962,-68.2637 170.6149,-78.6236 176.5912,-74.9789\"/>\n</g>\n<!-- 4 -->\n<g id=\"node5\" class=\"node\">\n<title>4</title>\n<polygon fill=\"#843ee6\" stroke=\"#000000\" points=\"341,-68 224,-68 224,0 341,0 341,-68\"/>\n<text text-anchor=\"middle\" x=\"282.5\" y=\"-52.8\" font-family=\"Times,serif\" font-size=\"14.00\" fill=\"#000000\">gini = 0.045</text>\n<text text-anchor=\"middle\" x=\"282.5\" y=\"-37.8\" font-family=\"Times,serif\" font-size=\"14.00\" fill=\"#000000\">samples = 43</text>\n<text text-anchor=\"middle\" x=\"282.5\" y=\"-22.8\" font-family=\"Times,serif\" font-size=\"14.00\" fill=\"#000000\">value = [0, 1, 42]</text>\n<text text-anchor=\"middle\" x=\"282.5\" y=\"-7.8\" font-family=\"Times,serif\" font-size=\"14.00\" fill=\"#000000\">class = virginica</text>\n</g>\n<!-- 2&#45;&gt;4 -->\n<g id=\"edge4\" class=\"edge\">\n<title>2&#45;&gt;4</title>\n<path fill=\"none\" stroke=\"#000000\" d=\"M240.4483,-103.9815C245.7501,-95.1585 251.3581,-85.8258 256.6911,-76.9506\"/>\n<polygon fill=\"#000000\" stroke=\"#000000\" points=\"259.7605,-78.638 261.9111,-68.2637 253.7604,-75.0325 259.7605,-78.638\"/>\n</g>\n</g>\n</svg>\n"
          },
          "metadata": {
            "tags": []
          },
          "execution_count": 28
        }
      ]
    },
    {
      "cell_type": "code",
      "metadata": {
        "id": "prvd2phWVggZ",
        "colab_type": "code",
        "colab": {
          "base_uri": "https://localhost:8080/",
          "height": 33
        },
        "outputId": "70abffdd-fd44-43a1-f17b-c4f434fca510"
      },
      "source": [
        "from sklearn.metrics import accuracy_score\n",
        "pre = clf.predict(x_test)\n",
        "accuracy_score(pre, y_test)"
      ],
      "execution_count": 29,
      "outputs": [
        {
          "output_type": "execute_result",
          "data": {
            "text/plain": [
              "1.0"
            ]
          },
          "metadata": {
            "tags": []
          },
          "execution_count": 29
        }
      ]
    }
  ]
}