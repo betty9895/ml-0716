{
  "nbformat": 4,
  "nbformat_minor": 0,
  "metadata": {
    "colab": {
      "name": "tools/Chinese.ipynb",
      "provenance": [],
      "collapsed_sections": [],
      "toc_visible": true,
      "authorship_tag": "ABX9TyMylUT84bRVF9WtmKJ/Q8la",
      "include_colab_link": true
    },
    "kernelspec": {
      "name": "python3",
      "display_name": "Python 3"
    }
  },
  "cells": [
    {
      "cell_type": "markdown",
      "metadata": {
        "id": "view-in-github",
        "colab_type": "text"
      },
      "source": [
        "<a href=\"https://colab.research.google.com/github/betty9895/ml-0716/blob/master/tools_Chinese.ipynb\" target=\"_parent\"><img src=\"https://colab.research.google.com/assets/colab-badge.svg\" alt=\"Open In Colab\"/></a>"
      ]
    },
    {
      "cell_type": "code",
      "metadata": {
        "id": "84pYKGysYpas",
        "colab_type": "code",
        "colab": {
          "base_uri": "https://localhost:8080/",
          "height": 204
        },
        "outputId": "657bf16e-3e1d-4e36-f409-fa3ec733242d"
      },
      "source": [
        "!pip install opencc-python-reimplemented"
      ],
      "execution_count": null,
      "outputs": [
        {
          "output_type": "stream",
          "text": [
            "Collecting opencc-python-reimplemented\n",
            "\u001b[?25l  Downloading https://files.pythonhosted.org/packages/04/aa/02c5ffc87e2bf1da1f476d35aa4de69cad2cfc3140e37114755c454d1231/opencc-python-reimplemented-0.1.6.tar.gz (484kB)\n",
            "\r\u001b[K     |▊                               | 10kB 16.4MB/s eta 0:00:01\r\u001b[K     |█▍                              | 20kB 3.0MB/s eta 0:00:01\r\u001b[K     |██                              | 30kB 3.7MB/s eta 0:00:01\r\u001b[K     |██▊                             | 40kB 4.1MB/s eta 0:00:01\r\u001b[K     |███▍                            | 51kB 3.5MB/s eta 0:00:01\r\u001b[K     |████                            | 61kB 3.8MB/s eta 0:00:01\r\u001b[K     |████▊                           | 71kB 4.3MB/s eta 0:00:01\r\u001b[K     |█████▍                          | 81kB 4.6MB/s eta 0:00:01\r\u001b[K     |██████                          | 92kB 5.0MB/s eta 0:00:01\r\u001b[K     |██████▊                         | 102kB 4.7MB/s eta 0:00:01\r\u001b[K     |███████▍                        | 112kB 4.7MB/s eta 0:00:01\r\u001b[K     |████████▏                       | 122kB 4.7MB/s eta 0:00:01\r\u001b[K     |████████▉                       | 133kB 4.7MB/s eta 0:00:01\r\u001b[K     |█████████▌                      | 143kB 4.7MB/s eta 0:00:01\r\u001b[K     |██████████▏                     | 153kB 4.7MB/s eta 0:00:01\r\u001b[K     |██████████▉                     | 163kB 4.7MB/s eta 0:00:01\r\u001b[K     |███████████▌                    | 174kB 4.7MB/s eta 0:00:01\r\u001b[K     |████████████▏                   | 184kB 4.7MB/s eta 0:00:01\r\u001b[K     |████████████▉                   | 194kB 4.7MB/s eta 0:00:01\r\u001b[K     |█████████████▌                  | 204kB 4.7MB/s eta 0:00:01\r\u001b[K     |██████████████▏                 | 215kB 4.7MB/s eta 0:00:01\r\u001b[K     |██████████████▉                 | 225kB 4.7MB/s eta 0:00:01\r\u001b[K     |███████████████▌                | 235kB 4.7MB/s eta 0:00:01\r\u001b[K     |████████████████▎               | 245kB 4.7MB/s eta 0:00:01\r\u001b[K     |█████████████████               | 256kB 4.7MB/s eta 0:00:01\r\u001b[K     |█████████████████▋              | 266kB 4.7MB/s eta 0:00:01\r\u001b[K     |██████████████████▎             | 276kB 4.7MB/s eta 0:00:01\r\u001b[K     |███████████████████             | 286kB 4.7MB/s eta 0:00:01\r\u001b[K     |███████████████████▋            | 296kB 4.7MB/s eta 0:00:01\r\u001b[K     |████████████████████▎           | 307kB 4.7MB/s eta 0:00:01\r\u001b[K     |█████████████████████           | 317kB 4.7MB/s eta 0:00:01\r\u001b[K     |█████████████████████▋          | 327kB 4.7MB/s eta 0:00:01\r\u001b[K     |██████████████████████▎         | 337kB 4.7MB/s eta 0:00:01\r\u001b[K     |███████████████████████         | 348kB 4.7MB/s eta 0:00:01\r\u001b[K     |███████████████████████▊        | 358kB 4.7MB/s eta 0:00:01\r\u001b[K     |████████████████████████▍       | 368kB 4.7MB/s eta 0:00:01\r\u001b[K     |█████████████████████████       | 378kB 4.7MB/s eta 0:00:01\r\u001b[K     |█████████████████████████▊      | 389kB 4.7MB/s eta 0:00:01\r\u001b[K     |██████████████████████████▍     | 399kB 4.7MB/s eta 0:00:01\r\u001b[K     |███████████████████████████     | 409kB 4.7MB/s eta 0:00:01\r\u001b[K     |███████████████████████████▊    | 419kB 4.7MB/s eta 0:00:01\r\u001b[K     |████████████████████████████▍   | 430kB 4.7MB/s eta 0:00:01\r\u001b[K     |█████████████████████████████   | 440kB 4.7MB/s eta 0:00:01\r\u001b[K     |█████████████████████████████▊  | 450kB 4.7MB/s eta 0:00:01\r\u001b[K     |██████████████████████████████▍ | 460kB 4.7MB/s eta 0:00:01\r\u001b[K     |███████████████████████████████ | 471kB 4.7MB/s eta 0:00:01\r\u001b[K     |███████████████████████████████▉| 481kB 4.7MB/s eta 0:00:01\r\u001b[K     |████████████████████████████████| 491kB 4.7MB/s \n",
            "\u001b[?25hBuilding wheels for collected packages: opencc-python-reimplemented\n",
            "  Building wheel for opencc-python-reimplemented (setup.py) ... \u001b[?25l\u001b[?25hdone\n",
            "  Created wheel for opencc-python-reimplemented: filename=opencc_python_reimplemented-0.1.6-py2.py3-none-any.whl size=486136 sha256=4d7873c9667871f0c98c25ae7120ac880552bea415a16a122f4f06089217baa0\n",
            "  Stored in directory: /root/.cache/pip/wheels/54/8a/0f/405db0ba3f02d9af8211422d3ae94c47b3296256f168ac1e68\n",
            "Successfully built opencc-python-reimplemented\n",
            "Installing collected packages: opencc-python-reimplemented\n",
            "Successfully installed opencc-python-reimplemented-0.1.6\n"
          ],
          "name": "stdout"
        }
      ]
    },
    {
      "cell_type": "code",
      "metadata": {
        "id": "CKaEKcwNZGRN",
        "colab_type": "code",
        "colab": {
          "base_uri": "https://localhost:8080/",
          "height": 52
        },
        "outputId": "176baf0d-835e-4b95-b99d-fb1be3551a22"
      },
      "source": [
        "from opencc import OpenCC\n",
        "cc = OpenCC('s2twp')  # convert from Simplified Chinese to Traditional Chinese\n",
        "# can also set conversion by calling set_conversion\n",
        "# cc.set_conversion('s2twp')\n",
        "# to_convert = '开放中文转换'\n",
        "to_convert = \"\"\" 〔暴爽玄幻，最热爽文〕少年陆鸣，血脉被夺，沦为废人，受尽屈辱。幸得至尊神殿，重生无上血脉，从此脚踏天才，一路逆袭，踏上热血辉煌之路。\n",
        "\n",
        "噬无尽生灵，融诸天血脉，跨千山万水，闯九天十地，败尽天下英豪，修战龙真诀，成就万道龙皇。\"\"\"\n",
        "converted = cc.convert(to_convert)\n",
        "converted"
      ],
      "execution_count": null,
      "outputs": [
        {
          "output_type": "execute_result",
          "data": {
            "application/vnd.google.colaboratory.intrinsic": {
              "type": "string"
            },
            "text/plain": [
              "' 〔暴爽玄幻，最熱爽文〕少年陸鳴，血脈被奪，淪為廢人，受盡屈辱。幸得至尊神殿，重生無上血脈，從此腳踏天才，一路逆襲，踏上熱血輝煌之路。\\n\\n噬無盡生靈，融諸天血脈，跨千山萬水，闖九天十地，敗盡天下英豪，修戰龍真訣，成就萬道龍皇。'"
            ]
          },
          "metadata": {
            "tags": []
          },
          "execution_count": 5
        }
      ]
    },
    {
      "cell_type": "code",
      "metadata": {
        "id": "sEJQo3Myb1MH",
        "colab_type": "code",
        "colab": {}
      },
      "source": [
        "news = \"\"\"\n",
        "一名美國男子分享家中發生的搞笑事件，原來在他的妻子懷著第一胎時的狀態不太好，因此夫妻達成共識至少要等5年之後才再規劃懷孕，便使用保險套來避孕，沒想到妻子竟還是懷上第二胎，後來才發現是家中養的橘貓「愛搗蛋」，把男子使用的保險套全都咬破，一切真相大白。\n",
        "\n",
        "一名美國男子在網路論壇Reddit分享，他和妻子在去年有了第一個孩子，但由於懷孕過程相當辛苦，妻子健康大損，所幸最終平安產下健康的小男孩，母子均安。\n",
        "\n",
        "不過，由於有了第一次懷孕的經驗且近來新冠肺炎疫情嚴峻，因此夫妻之間有了共識，決定至少要5年後才要規劃生下第二個孩子，因考量到妻子服用避孕藥會產生嘔吐感的副作用，最後只使用保險套進行避孕。\n",
        "\n",
        "然而，在這如此謹慎的避孕計畫之下，沒想到妻子還是懷孕了，這令男子相當費解，直到想起他都將保險套和棉花棒一起放在浴室的抽屜裡，而家裡養的橘貓平時最愛把抽屜裡的東西弄得一團亂，但他都沒有多想，只是將這「一團亂」收乾淨。直到妻子出現懷孕徵兆，他趕緊回到浴室抽屜尋找，才發現抽屜裡剩餘的保險套上都留有爪痕、齒痕，甚至是已經完全破裂的樣子，這才驚覺一切都是橘貓做的好事。\n",
        "\n",
        "男子說，以往他都是摸黑在浴室抽屜中翻找保險套，且未仔細檢查就使用，卻沒發現保險套早已被橘貓咬破，如今要提早迎接第二個寶寶的到來，他更是笑說「迫不急待要向他的孩子解釋，他的存在要歸功於家裡養的橘貓！」\n",
        "\"\"\""
      ],
      "execution_count": null,
      "outputs": []
    },
    {
      "cell_type": "code",
      "metadata": {
        "id": "Rdx-EsTOZg8v",
        "colab_type": "code",
        "colab": {
          "base_uri": "https://localhost:8080/",
          "height": 252
        },
        "outputId": "7ac4a2d3-ee9f-4129-a6f2-b1da6da769c3"
      },
      "source": [
        "import jieba\n",
        "# list(jieba.cut(news))\n",
        "from urllib.request import urlretrieve\n",
        "url = \"https://github.com/fxsjy/jieba/raw/master/extra_dict/dict.txt.big\"\n",
        "urlretrieve(url,\"dict.text.big\")\n",
        "jieba.set_dictionary(\"dict.text.big\")\n",
        "jieba.load_userdict(\"my_dict.txt\")\n",
        "\" \".join(jieba.cut(news))\n"
      ],
      "execution_count": 17,
      "outputs": [
        {
          "output_type": "stream",
          "text": [
            "Building prefix dict from /content/dict.text.big ...\n",
            "Dumping model to file cache /tmp/jieba.u39b6bb440e67e760fa0e9a4a04f130c8.cache\n",
            "Loading model cost 1.530 seconds.\n",
            "Prefix dict has been built successfully.\n"
          ],
          "name": "stderr"
        },
        {
          "output_type": "execute_result",
          "data": {
            "application/vnd.google.colaboratory.intrinsic": {
              "type": "string"
            },
            "text/plain": [
              "'\\n 一名 美國 男子 分享 家中 發生 的 搞笑 事件 ， 原來 在 他 的 妻子 懷著 第一胎 時 的 狀態 不太好 ， 因此 夫妻 達成 共識 至少 要 等 5 年 之後 才 再 規劃 懷孕 ， 便 使用 保險套 來 避孕 ， 沒想到 妻子 竟 還是 懷上 第二胎 ， 後來 才 發現 是 家中 養 的 橘貓 「 愛 搗蛋 」 ， 把 男子 使用 的 保險套 全都 咬破 ， 一切 真相大白 。 \\n \\n 一名 美國 男子 在 網路 論壇 Reddit 分享 ， 他 和 妻子 在 去年 有 了 第一個 孩子 ， 但 由於 懷孕 過程 相當 辛苦 ， 妻子 健康 大損 ， 所幸 最終 平安 產下 健康 的 小男孩 ， 母子均安 。 \\n \\n 不過 ， 由於 有 了 第一次 懷孕 的 經驗 且 近來 新冠 肺炎 疫情 嚴峻 ， 因此 夫妻 之間 有 了 共識 ， 決定 至少 要 5 年後才 要 規劃 生 下 第二個 孩子 ， 因 考量 到 妻子 服用 避孕藥 會 產生 嘔吐 感 的 副作用 ， 最後 只 使用 保險套 進行 避孕 。 \\n \\n 然而 ， 在 這 如此 謹慎 的 避孕 計畫 之下 ， 沒想到 妻子 還是 懷孕 了 ， 這令 男子 相當 費解 ， 直到 想起 他都將 保險套 和 棉花 棒 一起 放在 浴室 的 抽屜 裡 ， 而家裡養 的 橘貓 平時 最愛 把 抽屜 裡的 東西 弄 得 一團亂 ， 但 他 都 沒有 多想 ， 只是 將 這 「 一團亂 」 收 乾淨 。 直到 妻子 出現 懷孕 徵兆 ， 他 趕緊 回到 浴室 抽屜 尋找 ， 才 發現 抽屜 裡 剩餘 的 保險套 上 都 留有 爪痕 、 齒痕 ， 甚至 是 已經 完全 破裂 的 樣子 ， 這才 驚覺 一切都是 橘貓 做 的 好事 。 \\n \\n 男子 說 ， 以往 他 都 是 摸黑 在 浴室 抽屜 中 翻找 保險套 ， 且 未 仔細檢查 就 使用 ， 卻 沒 發現 保險套 早已 被 橘貓 咬破 ， 如今 要 提早 迎接 第二個 寶寶 的 到來 ， 他 更是 笑 說 「 迫不急待 要 向 他 的 孩子 解釋 ， 他 的 存在 要 歸功於 家裡養 的 橘貓 ！ 」 \\n'"
            ]
          },
          "metadata": {
            "tags": []
          },
          "execution_count": 17
        }
      ]
    },
    {
      "cell_type": "code",
      "metadata": {
        "id": "xzXtskPX9dVE",
        "colab_type": "code",
        "colab": {
          "base_uri": "https://localhost:8080/",
          "height": 351
        },
        "outputId": "62f8888b-58c8-4b0f-f34d-65aaec138367"
      },
      "source": [
        "import jieba.analyse\n",
        "url = \"https://github.com/fxsjy/jieba/blob/master/extra_dict/idf.txt.big\"\n",
        "urlretrieve(url, \"idf.txt.big\")\n",
        "jieba.analyse.set_idf_path(\"idf.txt.big\")\n",
        "jieba.analyse.extract_tags(news)"
      ],
      "execution_count": 18,
      "outputs": [
        {
          "output_type": "execute_result",
          "data": {
            "text/plain": [
              "['妻子',\n",
              " '保險套',\n",
              " '男子',\n",
              " '懷孕',\n",
              " '橘貓',\n",
              " '抽屜',\n",
              " '使用',\n",
              " '避孕',\n",
              " '發現',\n",
              " '孩子',\n",
              " '浴室',\n",
              " '一名',\n",
              " '美國',\n",
              " '分享',\n",
              " '家中',\n",
              " '因此',\n",
              " '夫妻',\n",
              " '共識',\n",
              " '至少',\n",
              " '規劃']"
            ]
          },
          "metadata": {
            "tags": []
          },
          "execution_count": 18
        }
      ]
    }
  ]
}